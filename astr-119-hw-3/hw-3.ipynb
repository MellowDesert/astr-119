{
 "cells": [
  {
   "cell_type": "code",
   "execution_count": null,
   "id": "1993e2fa",
   "metadata": {},
   "outputs": [],
   "source": [
    "%matplotlib inline\n",
    "import numpy as np    #import numpy library\n",
    "import matplotlib.pyplot as plt    #import matplotlib library"
   ]
  },
  {
   "cell_type": "code",
   "execution_count": null,
   "id": "00c2bae0",
   "metadata": {},
   "outputs": [],
   "source": [
    "n=1000                      #define an int\n",
    "x=np.arange(n,dtype=float)  #create an array of floats [0.0,n-1] with 1000 values\n",
    "x=x*2.0*np.pi/float(n-1)    #make the range of x = [0.0,2pi]\n",
    "y=np.cos(2*x)*5.5+5.5       #the function y(x) = 5.5 cos(2 * x) + 5.5\n",
    "z=np.exp(x)*0.02            #the function z(x) = 0.02 * exp( x )\n",
    "a=0.25*x**2+0.1*np.sin(10*x)#the function a(x) = 0.25 * x^2  + 0.1 sin (10 * x)\n",
    "plt.plot(x,y)               #plot x vs. y\n",
    "plt.plot(x,z)               #plot x vs. z\n",
    "plt.plot(x,a)               #plot x vs. a\n",
    "plt.xlabel('Time in ASTR 119') #make x label \"Time in ASTR 119\"\n",
    "plt.ylabel('Measures of Awesomeness') #make y label \"Measures of Awesomeness\"\n",
    "plt.ylim(-1,10)             #set vertical range to [-1,10]\n",
    "plt.show()"
   ]
  },
  {
   "cell_type": "code",
   "execution_count": null,
   "id": "35a35daf",
   "metadata": {},
   "outputs": [],
   "source": []
  }
 ],
 "metadata": {
  "kernelspec": {
   "display_name": "Python 3 (ipykernel)",
   "language": "python",
   "name": "python3"
  },
  "language_info": {
   "codemirror_mode": {
    "name": "ipython",
    "version": 3
   },
   "file_extension": ".py",
   "mimetype": "text/x-python",
   "name": "python",
   "nbconvert_exporter": "python",
   "pygments_lexer": "ipython3",
   "version": "3.9.7"
  }
 },
 "nbformat": 4,
 "nbformat_minor": 5
}

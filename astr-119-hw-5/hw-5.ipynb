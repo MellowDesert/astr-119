{
 "cells": [
  {
   "cell_type": "markdown",
   "id": "df2a2933",
   "metadata": {},
   "source": [
    "# Trapezoid method, Simpson's rule, and Romberg integration"
   ]
  },
  {
   "cell_type": "code",
   "execution_count": null,
   "id": "92b9ca6b",
   "metadata": {},
   "outputs": [],
   "source": [
    "%matplotlib inline\n",
    "import numpy as np\n",
    "import matplotlib.pyplot as plt"
   ]
  },
  {
   "cell_type": "markdown",
   "id": "1a337e7c",
   "metadata": {},
   "source": [
    "### Define a function to take the integral of"
   ]
  },
  {
   "cell_type": "code",
   "execution_count": null,
   "id": "c34f0fe6",
   "metadata": {},
   "outputs": [],
   "source": [
    "def function(x):\n",
    "    a=-2\n",
    "    b=10\n",
    "    return np.exp(a*x)*np.cos(b*x)"
   ]
  },
  {
   "cell_type": "markdown",
   "id": "42cd4000",
   "metadata": {},
   "source": [
    "### Define the Core of the Trapezoid method"
   ]
  },
  {
   "cell_type": "code",
   "execution_count": null,
   "id": "a17c51cf",
   "metadata": {},
   "outputs": [],
   "source": [
    "def trap_core(f, x, h):\n",
    "    return 0.5*h*(f(x+h)+f(x))"
   ]
  },
  {
   "cell_type": "markdown",
   "id": "d7c94484",
   "metadata": {},
   "source": [
    "### Define a wrapper function to perfrom trapezoid method"
   ]
  },
  {
   "cell_type": "code",
   "execution_count": null,
   "id": "cba1cbcd",
   "metadata": {},
   "outputs": [],
   "source": [
    "def trap_method(f,a,b,N):\n",
    "    #f is the function we choose to integrate\n",
    "    #a is the lower bound of integration\n",
    "    #b is the upper bound of integration\n",
    "    #N is the number of function evaluations we use \n",
    "    \n",
    "    #we make an array of values that serve as our \"chunks\" that we evaluate over using the trapezoid rule\n",
    "    x=np.linspace(a,b,N)\n",
    "    h=x[1]-x[0]   #x[1]-x[0] is the same as x[i]-x[i-1] b/c the intervals of the array are equal\n",
    "    \n",
    "    #the value of the integral is 0.0 at first\n",
    "    Fint=0.0\n",
    "    \n",
    "    #now, we perform the integral using the trapezoid rule\n",
    "    for i in range(0,len(x)-1,1):\n",
    "        Fint+=trap_core(f,x[i],h)  #we successively add the small \"chunks\" of the area under the curve of our function\n",
    "        \n",
    "    #return answer\n",
    "    return Fint"
   ]
  },
  {
   "cell_type": "markdown",
   "id": "4471d934",
   "metadata": {},
   "source": [
    "### Define the core of the Simpson's method"
   ]
  },
  {
   "cell_type": "code",
   "execution_count": null,
   "id": "9a59eadc",
   "metadata": {},
   "outputs": [],
   "source": [
    "def simp_core(f,x,h):\n",
    "    return h*( f(x) + 4*f(x+h) + f(x+2*h))/3"
   ]
  },
  {
   "cell_type": "markdown",
   "id": "7a6fd2fd",
   "metadata": {},
   "source": [
    "### Define a wrapper function to perform Simpson's method"
   ]
  },
  {
   "cell_type": "code",
   "execution_count": null,
   "id": "ffb9d33d",
   "metadata": {},
   "outputs": [],
   "source": [
    "def simp_method(f,a,b,N):\n",
    "    #f is the function who's integral we evaluate\n",
    "    #a is the lower bound of integration\n",
    "    #b is the upper bound of integration\n",
    "    #N is the number of function evaluations we will use\n",
    "    \n",
    "    #for no adjustments to be needed, N must be odd\n",
    "    #There will be N-1 \"chunks\" that we evaluate and Simpson's method takes 2 \"chunks\" at a time\n",
    "    #If N is even, then we simply split final \"chunk\" into two pieces and evaluate over the interval of that final \"chunk\"\n",
    "    \n",
    "    #define x as an array of values that we apply Simpson's rule to\n",
    "    x=np.linspace(a,b,N)\n",
    "    h=x[1]-x[0]\n",
    "    \n",
    "    #define value of integral, again, to be 0.0 at the beginning\n",
    "    Fint=0.0\n",
    "    \n",
    "    #perform simpson's method\n",
    "    for i in range(0,N-2,2):\n",
    "        Fint+=simp_core(f,x[i],h)\n",
    "        \n",
    "    #if N is even, apply Simpson's rule over interval of the last \"chunk\"\n",
    "    if((N%2)==0):\n",
    "        Fint+=simp_core(f,x[-2],0.5*h)\n",
    "        \n",
    "    return Fint"
   ]
  },
  {
   "cell_type": "markdown",
   "id": "a37be96c",
   "metadata": {},
   "source": [
    "### Define Romberg Integration Core"
   ]
  },
  {
   "cell_type": "code",
   "execution_count": null,
   "id": "83fa9e25",
   "metadata": {},
   "outputs": [],
   "source": [
    "def rom_core(f,a,b,i):\n",
    "    \n",
    "    #we need the difference between b and a; b-a\n",
    "    h=b-a\n",
    "    \n",
    "    #dh is the change between our inputs\n",
    "    dh=h/(2**i)\n",
    "    \n",
    "    #we need the cofactor of the summation\n",
    "    K=h/(2**(i+1))\n",
    "    \n",
    "    #this is essentially the Romberg integral in summation form\n",
    "    M=0.0\n",
    "    for j in range(2**i):\n",
    "        M+=f(a + 0.5*dh + j*dh)\n",
    "        \n",
    "    #return answer\n",
    "    return K*M"
   ]
  },
  {
   "cell_type": "markdown",
   "id": "eb68bcd4",
   "metadata": {},
   "source": [
    "### Define a wrapper function to perform Romberg Integration"
   ]
  },
  {
   "cell_type": "code",
   "execution_count": null,
   "id": "137f8d36",
   "metadata": {},
   "outputs": [],
   "source": [
    "def rom_integration(f,a,b,tol):\n",
    "    #define an iteration value\n",
    "    i=0\n",
    "    \n",
    "    #define max number of iterations\n",
    "    imax=1000\n",
    "    \n",
    "    #define an error estimate, set to a large value\n",
    "    delta=100*np.fabs(tol)\n",
    "    \n",
    "    #set an array of integral answers\n",
    "    I=np.zeros(imax,dtype=float)\n",
    "    \n",
    "    #get the zeroth romberg integration\n",
    "    I[0]=0.5*(b-a)*(f(a)+f(b))\n",
    "    \n",
    "    #iterate by 1\n",
    "    i+=1\n",
    "    \n",
    "    while(delta>tol):\n",
    "        \n",
    "        #find the ith romberg integration\n",
    "        I[i]=0.5*I[i-1]+rom_core(f,a,b,i)\n",
    "        \n",
    "        #we compute the new fractional error estimate, then compare it to our tolerance\n",
    "        delta=np.abs((I[i]-I[i-1])/I[i])\n",
    "        \n",
    "        print(i,I[i],I[i-1],delta)\n",
    "        \n",
    "        if(delta>tol):\n",
    "            \n",
    "            #iterate\n",
    "            i+=1\n",
    "            \n",
    "            #if we've reached the maximum iterations\n",
    "            if(i>imax):\n",
    "                print(\"Max iterations reached.\")\n",
    "                raise StopIteration('Stopping iterations after ',i)\n",
    "                \n",
    "    #return answer\n",
    "    return I[i]"
   ]
  },
  {
   "cell_type": "markdown",
   "id": "6a1fd7d5",
   "metadata": {},
   "source": [
    "### Check Integrals"
   ]
  },
  {
   "cell_type": "code",
   "execution_count": null,
   "id": "26e188b5",
   "metadata": {},
   "outputs": [],
   "source": [
    "print(\"Trapezoid\")\n",
    "print(trap_method(function,0,np.pi,6171))\n",
    "print(\"Simpson's Method\")\n",
    "print(simp_method(function,0,np.pi,276))\n",
    "print(\"Romberg\")\n",
    "tolerance=1.0e-6\n",
    "RI = rom_integration(function,0,np.pi,tolerance)\n",
    "print(RI, tolerance)"
   ]
  },
  {
   "cell_type": "markdown",
   "id": "32ffa3ef",
   "metadata": {},
   "source": [
    "### Romberg Integration took 26 iterations to reach specified tolerance"
   ]
  },
  {
   "cell_type": "markdown",
   "id": "1397763b",
   "metadata": {},
   "source": [
    "### Trapezoid method required about 6170 intervals to reach specified tolerance"
   ]
  },
  {
   "cell_type": "markdown",
   "id": "53c41787",
   "metadata": {},
   "source": [
    "### Simpson's method required about 138 intervals to reach specified tolerance"
   ]
  },
  {
   "cell_type": "code",
   "execution_count": null,
   "id": "bb1b3c75",
   "metadata": {},
   "outputs": [],
   "source": []
  }
 ],
 "metadata": {
  "kernelspec": {
   "display_name": "Python 3 (ipykernel)",
   "language": "python",
   "name": "python3"
  },
  "language_info": {
   "codemirror_mode": {
    "name": "ipython",
    "version": 3
   },
   "file_extension": ".py",
   "mimetype": "text/x-python",
   "name": "python",
   "nbconvert_exporter": "python",
   "pygments_lexer": "ipython3",
   "version": "3.9.7"
  }
 },
 "nbformat": 4,
 "nbformat_minor": 5
}
